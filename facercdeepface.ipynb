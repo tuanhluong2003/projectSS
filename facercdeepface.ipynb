{
 "cells": [
  {
   "cell_type": "code",
   "execution_count": null,
   "metadata": {
    "_cell_guid": "b1076dfc-b9ad-4769-8c92-a6c4dae69d19",
    "_uuid": "8f2839f25d086af736a60e9eeb907d3b93b6e0e5"
   },
   "outputs": [],
   "source": [
    "# This Python 3 environment comes with many helpful analytics libraries installed\n",
    "# It is defined by the kaggle/python Docker image: https://github.com/kaggle/docker-python\n",
    "# For example, here's several helpful packages to load\n",
    "\n",
    "import numpy as np # linear algebra\n",
    "import pandas as pd # data processing, CSV file I/O (e.g. pd.read_csv)\n",
    "\n",
    "# Input data files are available in the read-only \"../input/\" directory\n",
    "# For example, running this (by clicking run or pressing Shift+Enter) will list all files under the input directory\n",
    "\n",
    "import os\n",
    "for dirname, _, filenames in os.walk('/kaggle/input'):\n",
    "    for filename in filenames:\n",
    "        print(os.path.join(dirname, filename))\n",
    "\n",
    "# You can write up to 20GB to the current directory (/kaggle/working/) that gets preserved as output when you create a version using \"Save & Run All\" \n",
    "# You can also write temporary files to /kaggle/temp/, but they won't be saved outside of the current session"
   ]
  },
  {
   "cell_type": "code",
   "execution_count": null,
   "metadata": {},
   "outputs": [],
   "source": [
    "pip install deepface\n"
   ]
  },
  {
   "cell_type": "code",
   "execution_count": null,
   "metadata": {},
   "outputs": [],
   "source": [
    "pip install opencv-python"
   ]
  },
  {
   "cell_type": "code",
   "execution_count": null,
   "metadata": {},
   "outputs": [],
   "source": [
    "pip install matplotlib"
   ]
  },
  {
   "cell_type": "code",
   "execution_count": null,
   "metadata": {},
   "outputs": [],
   "source": [
    "pip install tf-keras"
   ]
  },
  {
   "cell_type": "code",
   "execution_count": null,
   "metadata": {},
   "outputs": [],
   "source": [
    "from deepface import DeepFace\n",
    "import cv2\n",
    "import matplotlib.pyplot as plt\n",
    "from scipy.spatial.distance import euclidean, cosine"
   ]
  },
  {
   "cell_type": "markdown",
   "metadata": {},
   "source": [
    "# Bước 1: So sánh hai ảnh khuôn mặt"
   ]
  },
  {
   "cell_type": "markdown",
   "metadata": {},
   "source": [
    "### Các bước thực hiện trong **`DeepFace.verify()`**:\n",
    "\n",
    "1. **Phát hiện khuôn mặt**: Tự động phát hiện và cắt khuôn mặt từ ảnh đầu vào.\n",
    "2. **Trích xuất đặc trưng**: Sử dụng mô hình nhận diện khuôn mặt (như VGG-Face, Facenet) để trích xuất vector đặc trưng.\n",
    "3. **So sánh**: So sánh vector đặc trưng của hai khuôn mặt và tính khoảng cách để xác định độ giống nhau."
   ]
  },
  {
   "cell_type": "code",
   "execution_count": null,
   "metadata": {},
   "outputs": [],
   "source": [
    "def compare_faces(image_path1, image_path2, model_name='VGG-Face', distance_metric='cosine', enforce_detection=True, align=True):\n",
    "    \"\"\"\n",
    "    So sánh hai ảnh khuôn mặt và trả về kết quả xác định cùng một người hay không.\n",
    "\n",
    "    Parameters:\n",
    "    - image_path1: Đường dẫn tới ảnh thứ nhất.\n",
    "    - image_path2: Đường dẫn tới ảnh thứ hai.\n",
    "    - model_name: Tên mô hình sử dụng (default: 'VGG-Face').\n",
    "    - distance_metric: Phương pháp tính khoảng cách ('cosine', 'euclidean', 'euclidean_l2').\n",
    "    - enforce_detection: Nếu True, sẽ kiểm tra sự tồn tại của khuôn mặt trong ảnh.\n",
    "    - align: Nếu True, sẽ căn chỉnh khuôn mặt trước khi trích xuất đặc trưng.\n",
    "\n",
    "    Returns:\n",
    "    - Kết quả so sánh: True nếu cùng một người, False nếu khác.\n",
    "    - Khoảng cách tính được giữa hai vector đặc trưng.\n",
    "    \"\"\"\n",
    "    try:\n",
    "        result = DeepFace.verify(img1_path=image_path1,\n",
    "                                 img2_path=image_path2,\n",
    "                                 model_name=model_name,\n",
    "                                 distance_metric=distance_metric,\n",
    "                                 enforce_detection=enforce_detection,\n",
    "                                 align=align)\n",
    "        return result['verified'], result['distance']\n",
    "    except Exception as e:\n",
    "        print(f\"Error comparing faces: {e}\")\n",
    "        return False, None"
   ]
  },
  {
   "cell_type": "markdown",
   "metadata": {},
   "source": []
  },
  {
   "cell_type": "markdown",
   "metadata": {},
   "source": [
    "# Bước 2: Hiển thị kết quả"
   ]
  },
  {
   "cell_type": "code",
   "execution_count": null,
   "metadata": {},
   "outputs": [],
   "source": [
    "pip uninstall deepface"
   ]
  },
  {
   "cell_type": "code",
   "execution_count": null,
   "metadata": {},
   "outputs": [],
   "source": [
    "pip install deepface"
   ]
  },
  {
   "cell_type": "code",
   "execution_count": null,
   "metadata": {},
   "outputs": [],
   "source": [
    "def show_image(image_path):\n",
    "    \"\"\"\n",
    "    Hiển thị ảnh gốc.\n",
    "    \"\"\"\n",
    "    img = cv2.imread(image_path)\n",
    "    plt.imshow(cv2.cvtColor(img, cv2.COLOR_BGR2RGB))\n",
    "    plt.axis('off')\n",
    "    plt.show()"
   ]
  },
  {
   "cell_type": "code",
   "execution_count": null,
   "metadata": {},
   "outputs": [],
   "source": [
    "def display_comparison(image_path1, image_path2, model_name='VGG-Face', distance_metric='cosine'):\n",
    "    \"\"\"\n",
    "    Hiển thị hai ảnh và kết quả so sánh.\n",
    "    \"\"\"\n",
    "    verified, distance = compare_faces(image_path1, image_path2, model_name, distance_metric)\n",
    "\n",
    "    print(f\"Khoảng cách ({distance_metric}): {distance}\")\n",
    "    if verified:\n",
    "        print(\"Hai ảnh là cùng một người.\")\n",
    "    else:\n",
    "        print(\"Hai ảnh là khác người.\")\n",
    "\n",
    "    # Hiển thị ảnh với bounding box\n",
    "    print(\"\\nẢnh thứ nhất:\")\n",
    "    show_image(image_path1)\n",
    "\n",
    "    print(\"Ảnh thứ hai:\")\n",
    "    show_image(image_path2)"
   ]
  },
  {
   "cell_type": "code",
   "execution_count": null,
   "metadata": {},
   "outputs": [],
   "source": [
    "image_path1 = r\"C:\\Users\\ATUS\\Desktop\\Pycharm\\faceRC\\km.jpg\"  # Đường dẫn tới ảnh thứ nhất\n",
    "image_path2 = r\"C:\\Users\\ATUS\\Desktop\\Pycharm\\faceRC\\km1.jpg\"  # Đường dẫn tới ảnh thứ hai\n",
    "\n",
    "# Hiển thị kết quả so sánh\n",
    "display_comparison(image_path1, image_path2, model_name='VGG-Face', distance_metric='cosine')"
   ]
  },
  {
   "cell_type": "code",
   "execution_count": null,
   "metadata": {},
   "outputs": [],
   "source": []
  },
  {
   "cell_type": "code",
   "execution_count": null,
   "metadata": {},
   "outputs": [],
   "source": []
  }
 ],
 "metadata": {
  "kaggle": {
   "accelerator": "none",
   "dataSources": [
    {
     "datasetId": 5672499,
     "isSourceIdPinned": false,
     "sourceId": 9356829,
     "sourceType": "datasetVersion"
    }
   ],
   "dockerImageVersionId": 30761,
   "isGpuEnabled": false,
   "isInternetEnabled": true,
   "language": "python",
   "sourceType": "notebook"
  },
  "kernelspec": {
   "display_name": "Python 3 (ipykernel)",
   "language": "python",
   "name": "python3"
  },
  "language_info": {
   "codemirror_mode": {
    "name": "ipython",
    "version": 3
   },
   "file_extension": ".py",
   "mimetype": "text/x-python",
   "name": "python",
   "nbconvert_exporter": "python",
   "pygments_lexer": "ipython3",
   "version": "3.11.0"
  }
 },
 "nbformat": 4,
 "nbformat_minor": 4
}
