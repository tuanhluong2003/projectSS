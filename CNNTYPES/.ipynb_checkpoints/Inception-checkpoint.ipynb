{
 "cells": [
  {
   "cell_type": "code",
   "execution_count": 4,
   "id": "d79d9740-a958-46aa-8d3c-a8b8374b412f",
   "metadata": {},
   "outputs": [
    {
     "name": "stdout",
     "output_type": "stream",
     "text": [
      "Requirement already satisfied: d2l in c:\\users\\atus\\appdata\\local\\programs\\python\\python311\\lib\\site-packages (1.0.3)\n",
      "Requirement already satisfied: jupyter==1.0.0 in c:\\users\\atus\\appdata\\local\\programs\\python\\python311\\lib\\site-packages (from d2l) (1.0.0)\n",
      "Requirement already satisfied: numpy==1.23.5 in c:\\users\\atus\\appdata\\local\\programs\\python\\python311\\lib\\site-packages (from d2l) (1.23.5)\n",
      "Requirement already satisfied: matplotlib==3.7.2 in c:\\users\\atus\\appdata\\local\\programs\\python\\python311\\lib\\site-packages (from d2l) (3.7.2)\n",
      "Requirement already satisfied: matplotlib-inline==0.1.6 in c:\\users\\atus\\appdata\\local\\programs\\python\\python311\\lib\\site-packages (from d2l) (0.1.6)\n",
      "Requirement already satisfied: requests==2.31.0 in c:\\users\\atus\\appdata\\local\\programs\\python\\python311\\lib\\site-packages (from d2l) (2.31.0)\n",
      "Requirement already satisfied: pandas==2.0.3 in c:\\users\\atus\\appdata\\local\\programs\\python\\python311\\lib\\site-packages (from d2l) (2.0.3)\n",
      "Requirement already satisfied: scipy==1.10.1 in c:\\users\\atus\\appdata\\local\\programs\\python\\python311\\lib\\site-packages (from d2l) (1.10.1)\n",
      "Requirement already satisfied: notebook in c:\\users\\atus\\appdata\\local\\programs\\python\\python311\\lib\\site-packages (from jupyter==1.0.0->d2l) (7.2.2)\n",
      "Requirement already satisfied: qtconsole in c:\\users\\atus\\appdata\\local\\programs\\python\\python311\\lib\\site-packages (from jupyter==1.0.0->d2l) (5.6.0)\n",
      "Requirement already satisfied: jupyter-console in c:\\users\\atus\\appdata\\local\\programs\\python\\python311\\lib\\site-packages (from jupyter==1.0.0->d2l) (6.6.3)\n",
      "Requirement already satisfied: nbconvert in c:\\users\\atus\\appdata\\local\\programs\\python\\python311\\lib\\site-packages (from jupyter==1.0.0->d2l) (7.16.4)\n",
      "Requirement already satisfied: ipykernel in c:\\users\\atus\\appdata\\local\\programs\\python\\python311\\lib\\site-packages (from jupyter==1.0.0->d2l) (6.29.5)\n",
      "Requirement already satisfied: ipywidgets in c:\\users\\atus\\appdata\\local\\programs\\python\\python311\\lib\\site-packages (from jupyter==1.0.0->d2l) (8.1.5)\n",
      "Requirement already satisfied: contourpy>=1.0.1 in c:\\users\\atus\\appdata\\local\\programs\\python\\python311\\lib\\site-packages (from matplotlib==3.7.2->d2l) (1.3.0)\n",
      "Requirement already satisfied: cycler>=0.10 in c:\\users\\atus\\appdata\\local\\programs\\python\\python311\\lib\\site-packages (from matplotlib==3.7.2->d2l) (0.12.1)\n",
      "Requirement already satisfied: fonttools>=4.22.0 in c:\\users\\atus\\appdata\\local\\programs\\python\\python311\\lib\\site-packages (from matplotlib==3.7.2->d2l) (4.53.1)\n",
      "Requirement already satisfied: kiwisolver>=1.0.1 in c:\\users\\atus\\appdata\\local\\programs\\python\\python311\\lib\\site-packages (from matplotlib==3.7.2->d2l) (1.4.7)\n",
      "Requirement already satisfied: packaging>=20.0 in c:\\users\\atus\\appdata\\local\\programs\\python\\python311\\lib\\site-packages (from matplotlib==3.7.2->d2l) (24.1)\n",
      "Requirement already satisfied: pillow>=6.2.0 in c:\\users\\atus\\appdata\\local\\programs\\python\\python311\\lib\\site-packages (from matplotlib==3.7.2->d2l) (10.2.0)\n",
      "Requirement already satisfied: pyparsing<3.1,>=2.3.1 in c:\\users\\atus\\appdata\\local\\programs\\python\\python311\\lib\\site-packages (from matplotlib==3.7.2->d2l) (3.0.9)\n",
      "Requirement already satisfied: python-dateutil>=2.7 in c:\\users\\atus\\appdata\\local\\programs\\python\\python311\\lib\\site-packages (from matplotlib==3.7.2->d2l) (2.9.0.post0)\n",
      "Requirement already satisfied: traitlets in c:\\users\\atus\\appdata\\local\\programs\\python\\python311\\lib\\site-packages (from matplotlib-inline==0.1.6->d2l) (5.14.3)\n",
      "Requirement already satisfied: pytz>=2020.1 in c:\\users\\atus\\appdata\\local\\programs\\python\\python311\\lib\\site-packages (from pandas==2.0.3->d2l) (2024.1)\n",
      "Requirement already satisfied: tzdata>=2022.1 in c:\\users\\atus\\appdata\\local\\programs\\python\\python311\\lib\\site-packages (from pandas==2.0.3->d2l) (2024.1)\n",
      "Requirement already satisfied: charset-normalizer<4,>=2 in c:\\users\\atus\\appdata\\local\\programs\\python\\python311\\lib\\site-packages (from requests==2.31.0->d2l) (3.3.2)\n",
      "Requirement already satisfied: idna<4,>=2.5 in c:\\users\\atus\\appdata\\local\\programs\\python\\python311\\lib\\site-packages (from requests==2.31.0->d2l) (3.8)\n",
      "Requirement already satisfied: urllib3<3,>=1.21.1 in c:\\users\\atus\\appdata\\local\\programs\\python\\python311\\lib\\site-packages (from requests==2.31.0->d2l) (2.2.2)\n",
      "Requirement already satisfied: certifi>=2017.4.17 in c:\\users\\atus\\appdata\\local\\programs\\python\\python311\\lib\\site-packages (from requests==2.31.0->d2l) (2024.8.30)\n",
      "Requirement already satisfied: six>=1.5 in c:\\users\\atus\\appdata\\local\\programs\\python\\python311\\lib\\site-packages (from python-dateutil>=2.7->matplotlib==3.7.2->d2l) (1.16.0)\n",
      "Requirement already satisfied: comm>=0.1.1 in c:\\users\\atus\\appdata\\local\\programs\\python\\python311\\lib\\site-packages (from ipykernel->jupyter==1.0.0->d2l) (0.2.2)\n",
      "Requirement already satisfied: debugpy>=1.6.5 in c:\\users\\atus\\appdata\\local\\programs\\python\\python311\\lib\\site-packages (from ipykernel->jupyter==1.0.0->d2l) (1.8.5)\n",
      "Requirement already satisfied: ipython>=7.23.1 in c:\\users\\atus\\appdata\\local\\programs\\python\\python311\\lib\\site-packages (from ipykernel->jupyter==1.0.0->d2l) (8.27.0)\n",
      "Requirement already satisfied: jupyter-client>=6.1.12 in c:\\users\\atus\\appdata\\local\\programs\\python\\python311\\lib\\site-packages (from ipykernel->jupyter==1.0.0->d2l) (8.6.2)\n",
      "Requirement already satisfied: jupyter-core!=5.0.*,>=4.12 in c:\\users\\atus\\appdata\\local\\programs\\python\\python311\\lib\\site-packages (from ipykernel->jupyter==1.0.0->d2l) (5.7.2)\n",
      "Requirement already satisfied: nest-asyncio in c:\\users\\atus\\appdata\\local\\programs\\python\\python311\\lib\\site-packages (from ipykernel->jupyter==1.0.0->d2l) (1.6.0)\n",
      "Requirement already satisfied: psutil in c:\\users\\atus\\appdata\\local\\programs\\python\\python311\\lib\\site-packages (from ipykernel->jupyter==1.0.0->d2l) (6.0.0)\n",
      "Requirement already satisfied: pyzmq>=24 in c:\\users\\atus\\appdata\\local\\programs\\python\\python311\\lib\\site-packages (from ipykernel->jupyter==1.0.0->d2l) (26.2.0)\n",
      "Requirement already satisfied: tornado>=6.1 in c:\\users\\atus\\appdata\\local\\programs\\python\\python311\\lib\\site-packages (from ipykernel->jupyter==1.0.0->d2l) (6.4.1)\n",
      "Requirement already satisfied: widgetsnbextension~=4.0.12 in c:\\users\\atus\\appdata\\local\\programs\\python\\python311\\lib\\site-packages (from ipywidgets->jupyter==1.0.0->d2l) (4.0.13)\n",
      "Requirement already satisfied: jupyterlab-widgets~=3.0.12 in c:\\users\\atus\\appdata\\local\\programs\\python\\python311\\lib\\site-packages (from ipywidgets->jupyter==1.0.0->d2l) (3.0.13)\n",
      "Requirement already satisfied: prompt-toolkit>=3.0.30 in c:\\users\\atus\\appdata\\local\\programs\\python\\python311\\lib\\site-packages (from jupyter-console->jupyter==1.0.0->d2l) (3.0.47)\n",
      "Requirement already satisfied: pygments in c:\\users\\atus\\appdata\\local\\programs\\python\\python311\\lib\\site-packages (from jupyter-console->jupyter==1.0.0->d2l) (2.18.0)\n",
      "Requirement already satisfied: beautifulsoup4 in c:\\users\\atus\\appdata\\local\\programs\\python\\python311\\lib\\site-packages (from nbconvert->jupyter==1.0.0->d2l) (4.12.3)\n",
      "Requirement already satisfied: bleach!=5.0.0 in c:\\users\\atus\\appdata\\local\\programs\\python\\python311\\lib\\site-packages (from nbconvert->jupyter==1.0.0->d2l) (6.1.0)\n",
      "Requirement already satisfied: defusedxml in c:\\users\\atus\\appdata\\local\\programs\\python\\python311\\lib\\site-packages (from nbconvert->jupyter==1.0.0->d2l) (0.7.1)\n",
      "Requirement already satisfied: jinja2>=3.0 in c:\\users\\atus\\appdata\\local\\programs\\python\\python311\\lib\\site-packages (from nbconvert->jupyter==1.0.0->d2l) (3.1.4)\n",
      "Requirement already satisfied: jupyterlab-pygments in c:\\users\\atus\\appdata\\local\\programs\\python\\python311\\lib\\site-packages (from nbconvert->jupyter==1.0.0->d2l) (0.3.0)\n",
      "Requirement already satisfied: markupsafe>=2.0 in c:\\users\\atus\\appdata\\local\\programs\\python\\python311\\lib\\site-packages (from nbconvert->jupyter==1.0.0->d2l) (2.1.5)\n",
      "Requirement already satisfied: mistune<4,>=2.0.3 in c:\\users\\atus\\appdata\\local\\programs\\python\\python311\\lib\\site-packages (from nbconvert->jupyter==1.0.0->d2l) (3.0.2)\n",
      "Requirement already satisfied: nbclient>=0.5.0 in c:\\users\\atus\\appdata\\local\\programs\\python\\python311\\lib\\site-packages (from nbconvert->jupyter==1.0.0->d2l) (0.10.0)\n",
      "Requirement already satisfied: nbformat>=5.7 in c:\\users\\atus\\appdata\\local\\programs\\python\\python311\\lib\\site-packages (from nbconvert->jupyter==1.0.0->d2l) (5.10.4)\n",
      "Requirement already satisfied: pandocfilters>=1.4.1 in c:\\users\\atus\\appdata\\local\\programs\\python\\python311\\lib\\site-packages (from nbconvert->jupyter==1.0.0->d2l) (1.5.1)\n",
      "Requirement already satisfied: tinycss2 in c:\\users\\atus\\appdata\\local\\programs\\python\\python311\\lib\\site-packages (from nbconvert->jupyter==1.0.0->d2l) (1.3.0)\n",
      "Requirement already satisfied: jupyter-server<3,>=2.4.0 in c:\\users\\atus\\appdata\\local\\programs\\python\\python311\\lib\\site-packages (from notebook->jupyter==1.0.0->d2l) (2.14.2)\n",
      "Requirement already satisfied: jupyterlab-server<3,>=2.27.1 in c:\\users\\atus\\appdata\\local\\programs\\python\\python311\\lib\\site-packages (from notebook->jupyter==1.0.0->d2l) (2.27.3)\n",
      "Requirement already satisfied: jupyterlab<4.3,>=4.2.0 in c:\\users\\atus\\appdata\\local\\programs\\python\\python311\\lib\\site-packages (from notebook->jupyter==1.0.0->d2l) (4.2.5)\n",
      "Requirement already satisfied: notebook-shim<0.3,>=0.2 in c:\\users\\atus\\appdata\\local\\programs\\python\\python311\\lib\\site-packages (from notebook->jupyter==1.0.0->d2l) (0.2.4)\n",
      "Requirement already satisfied: qtpy>=2.4.0 in c:\\users\\atus\\appdata\\local\\programs\\python\\python311\\lib\\site-packages (from qtconsole->jupyter==1.0.0->d2l) (2.4.1)\n",
      "Requirement already satisfied: webencodings in c:\\users\\atus\\appdata\\local\\programs\\python\\python311\\lib\\site-packages (from bleach!=5.0.0->nbconvert->jupyter==1.0.0->d2l) (0.5.1)\n",
      "Requirement already satisfied: decorator in c:\\users\\atus\\appdata\\local\\programs\\python\\python311\\lib\\site-packages (from ipython>=7.23.1->ipykernel->jupyter==1.0.0->d2l) (5.1.1)\n",
      "Requirement already satisfied: jedi>=0.16 in c:\\users\\atus\\appdata\\local\\programs\\python\\python311\\lib\\site-packages (from ipython>=7.23.1->ipykernel->jupyter==1.0.0->d2l) (0.19.1)\n",
      "Requirement already satisfied: stack-data in c:\\users\\atus\\appdata\\local\\programs\\python\\python311\\lib\\site-packages (from ipython>=7.23.1->ipykernel->jupyter==1.0.0->d2l) (0.6.3)\n",
      "Requirement already satisfied: typing-extensions>=4.6 in c:\\users\\atus\\appdata\\local\\programs\\python\\python311\\lib\\site-packages (from ipython>=7.23.1->ipykernel->jupyter==1.0.0->d2l) (4.12.2)\n",
      "Requirement already satisfied: colorama in c:\\users\\atus\\appdata\\local\\programs\\python\\python311\\lib\\site-packages (from ipython>=7.23.1->ipykernel->jupyter==1.0.0->d2l) (0.4.6)\n",
      "Requirement already satisfied: platformdirs>=2.5 in c:\\users\\atus\\appdata\\local\\programs\\python\\python311\\lib\\site-packages (from jupyter-core!=5.0.*,>=4.12->ipykernel->jupyter==1.0.0->d2l) (4.3.2)\n",
      "Requirement already satisfied: pywin32>=300 in c:\\users\\atus\\appdata\\local\\programs\\python\\python311\\lib\\site-packages (from jupyter-core!=5.0.*,>=4.12->ipykernel->jupyter==1.0.0->d2l) (306)\n",
      "Requirement already satisfied: anyio>=3.1.0 in c:\\users\\atus\\appdata\\local\\programs\\python\\python311\\lib\\site-packages (from jupyter-server<3,>=2.4.0->notebook->jupyter==1.0.0->d2l) (4.4.0)\n",
      "Requirement already satisfied: argon2-cffi>=21.1 in c:\\users\\atus\\appdata\\local\\programs\\python\\python311\\lib\\site-packages (from jupyter-server<3,>=2.4.0->notebook->jupyter==1.0.0->d2l) (23.1.0)\n",
      "Requirement already satisfied: jupyter-events>=0.9.0 in c:\\users\\atus\\appdata\\local\\programs\\python\\python311\\lib\\site-packages (from jupyter-server<3,>=2.4.0->notebook->jupyter==1.0.0->d2l) (0.10.0)\n",
      "Requirement already satisfied: jupyter-server-terminals>=0.4.4 in c:\\users\\atus\\appdata\\local\\programs\\python\\python311\\lib\\site-packages (from jupyter-server<3,>=2.4.0->notebook->jupyter==1.0.0->d2l) (0.5.3)\n",
      "Requirement already satisfied: overrides>=5.0 in c:\\users\\atus\\appdata\\local\\programs\\python\\python311\\lib\\site-packages (from jupyter-server<3,>=2.4.0->notebook->jupyter==1.0.0->d2l) (7.7.0)\n",
      "Requirement already satisfied: prometheus-client>=0.9 in c:\\users\\atus\\appdata\\local\\programs\\python\\python311\\lib\\site-packages (from jupyter-server<3,>=2.4.0->notebook->jupyter==1.0.0->d2l) (0.20.0)\n",
      "Requirement already satisfied: pywinpty>=2.0.1 in c:\\users\\atus\\appdata\\local\\programs\\python\\python311\\lib\\site-packages (from jupyter-server<3,>=2.4.0->notebook->jupyter==1.0.0->d2l) (2.0.13)\n",
      "Requirement already satisfied: send2trash>=1.8.2 in c:\\users\\atus\\appdata\\local\\programs\\python\\python311\\lib\\site-packages (from jupyter-server<3,>=2.4.0->notebook->jupyter==1.0.0->d2l) (1.8.3)\n",
      "Requirement already satisfied: terminado>=0.8.3 in c:\\users\\atus\\appdata\\local\\programs\\python\\python311\\lib\\site-packages (from jupyter-server<3,>=2.4.0->notebook->jupyter==1.0.0->d2l) (0.18.1)\n",
      "Requirement already satisfied: websocket-client>=1.7 in c:\\users\\atus\\appdata\\local\\programs\\python\\python311\\lib\\site-packages (from jupyter-server<3,>=2.4.0->notebook->jupyter==1.0.0->d2l) (1.8.0)\n",
      "Requirement already satisfied: async-lru>=1.0.0 in c:\\users\\atus\\appdata\\local\\programs\\python\\python311\\lib\\site-packages (from jupyterlab<4.3,>=4.2.0->notebook->jupyter==1.0.0->d2l) (2.0.4)\n",
      "Requirement already satisfied: httpx>=0.25.0 in c:\\users\\atus\\appdata\\local\\programs\\python\\python311\\lib\\site-packages (from jupyterlab<4.3,>=4.2.0->notebook->jupyter==1.0.0->d2l) (0.27.2)\n",
      "Requirement already satisfied: jupyter-lsp>=2.0.0 in c:\\users\\atus\\appdata\\local\\programs\\python\\python311\\lib\\site-packages (from jupyterlab<4.3,>=4.2.0->notebook->jupyter==1.0.0->d2l) (2.2.5)\n",
      "Requirement already satisfied: setuptools>=40.1.0 in c:\\users\\atus\\appdata\\local\\programs\\python\\python311\\lib\\site-packages (from jupyterlab<4.3,>=4.2.0->notebook->jupyter==1.0.0->d2l) (74.1.2)\n",
      "Requirement already satisfied: babel>=2.10 in c:\\users\\atus\\appdata\\local\\programs\\python\\python311\\lib\\site-packages (from jupyterlab-server<3,>=2.27.1->notebook->jupyter==1.0.0->d2l) (2.16.0)\n",
      "Requirement already satisfied: json5>=0.9.0 in c:\\users\\atus\\appdata\\local\\programs\\python\\python311\\lib\\site-packages (from jupyterlab-server<3,>=2.27.1->notebook->jupyter==1.0.0->d2l) (0.9.25)\n",
      "Requirement already satisfied: jsonschema>=4.18.0 in c:\\users\\atus\\appdata\\local\\programs\\python\\python311\\lib\\site-packages (from jupyterlab-server<3,>=2.27.1->notebook->jupyter==1.0.0->d2l) (4.23.0)\n",
      "Requirement already satisfied: fastjsonschema>=2.15 in c:\\users\\atus\\appdata\\local\\programs\\python\\python311\\lib\\site-packages (from nbformat>=5.7->nbconvert->jupyter==1.0.0->d2l) (2.20.0)\n",
      "Requirement already satisfied: wcwidth in c:\\users\\atus\\appdata\\local\\programs\\python\\python311\\lib\\site-packages (from prompt-toolkit>=3.0.30->jupyter-console->jupyter==1.0.0->d2l) (0.2.13)\n",
      "Requirement already satisfied: soupsieve>1.2 in c:\\users\\atus\\appdata\\local\\programs\\python\\python311\\lib\\site-packages (from beautifulsoup4->nbconvert->jupyter==1.0.0->d2l) (2.6)\n",
      "Requirement already satisfied: sniffio>=1.1 in c:\\users\\atus\\appdata\\local\\programs\\python\\python311\\lib\\site-packages (from anyio>=3.1.0->jupyter-server<3,>=2.4.0->notebook->jupyter==1.0.0->d2l) (1.3.1)\n",
      "Requirement already satisfied: argon2-cffi-bindings in c:\\users\\atus\\appdata\\local\\programs\\python\\python311\\lib\\site-packages (from argon2-cffi>=21.1->jupyter-server<3,>=2.4.0->notebook->jupyter==1.0.0->d2l) (21.2.0)\n",
      "Requirement already satisfied: httpcore==1.* in c:\\users\\atus\\appdata\\local\\programs\\python\\python311\\lib\\site-packages (from httpx>=0.25.0->jupyterlab<4.3,>=4.2.0->notebook->jupyter==1.0.0->d2l) (1.0.5)\n",
      "Requirement already satisfied: h11<0.15,>=0.13 in c:\\users\\atus\\appdata\\local\\programs\\python\\python311\\lib\\site-packages (from httpcore==1.*->httpx>=0.25.0->jupyterlab<4.3,>=4.2.0->notebook->jupyter==1.0.0->d2l) (0.14.0)\n",
      "Requirement already satisfied: parso<0.9.0,>=0.8.3 in c:\\users\\atus\\appdata\\local\\programs\\python\\python311\\lib\\site-packages (from jedi>=0.16->ipython>=7.23.1->ipykernel->jupyter==1.0.0->d2l) (0.8.4)\n",
      "Requirement already satisfied: attrs>=22.2.0 in c:\\users\\atus\\appdata\\local\\programs\\python\\python311\\lib\\site-packages (from jsonschema>=4.18.0->jupyterlab-server<3,>=2.27.1->notebook->jupyter==1.0.0->d2l) (24.2.0)\n",
      "Requirement already satisfied: jsonschema-specifications>=2023.03.6 in c:\\users\\atus\\appdata\\local\\programs\\python\\python311\\lib\\site-packages (from jsonschema>=4.18.0->jupyterlab-server<3,>=2.27.1->notebook->jupyter==1.0.0->d2l) (2023.12.1)\n",
      "Requirement already satisfied: referencing>=0.28.4 in c:\\users\\atus\\appdata\\local\\programs\\python\\python311\\lib\\site-packages (from jsonschema>=4.18.0->jupyterlab-server<3,>=2.27.1->notebook->jupyter==1.0.0->d2l) (0.35.1)\n",
      "Requirement already satisfied: rpds-py>=0.7.1 in c:\\users\\atus\\appdata\\local\\programs\\python\\python311\\lib\\site-packages (from jsonschema>=4.18.0->jupyterlab-server<3,>=2.27.1->notebook->jupyter==1.0.0->d2l) (0.20.0)\n",
      "Requirement already satisfied: python-json-logger>=2.0.4 in c:\\users\\atus\\appdata\\local\\programs\\python\\python311\\lib\\site-packages (from jupyter-events>=0.9.0->jupyter-server<3,>=2.4.0->notebook->jupyter==1.0.0->d2l) (2.0.7)\n",
      "Requirement already satisfied: pyyaml>=5.3 in c:\\users\\atus\\appdata\\local\\programs\\python\\python311\\lib\\site-packages (from jupyter-events>=0.9.0->jupyter-server<3,>=2.4.0->notebook->jupyter==1.0.0->d2l) (6.0.2)\n",
      "Requirement already satisfied: rfc3339-validator in c:\\users\\atus\\appdata\\local\\programs\\python\\python311\\lib\\site-packages (from jupyter-events>=0.9.0->jupyter-server<3,>=2.4.0->notebook->jupyter==1.0.0->d2l) (0.1.4)\n",
      "Requirement already satisfied: rfc3986-validator>=0.1.1 in c:\\users\\atus\\appdata\\local\\programs\\python\\python311\\lib\\site-packages (from jupyter-events>=0.9.0->jupyter-server<3,>=2.4.0->notebook->jupyter==1.0.0->d2l) (0.1.1)\n",
      "Requirement already satisfied: executing>=1.2.0 in c:\\users\\atus\\appdata\\local\\programs\\python\\python311\\lib\\site-packages (from stack-data->ipython>=7.23.1->ipykernel->jupyter==1.0.0->d2l) (2.1.0)\n",
      "Requirement already satisfied: asttokens>=2.1.0 in c:\\users\\atus\\appdata\\local\\programs\\python\\python311\\lib\\site-packages (from stack-data->ipython>=7.23.1->ipykernel->jupyter==1.0.0->d2l) (2.4.1)\n",
      "Requirement already satisfied: pure-eval in c:\\users\\atus\\appdata\\local\\programs\\python\\python311\\lib\\site-packages (from stack-data->ipython>=7.23.1->ipykernel->jupyter==1.0.0->d2l) (0.2.3)\n",
      "Requirement already satisfied: fqdn in c:\\users\\atus\\appdata\\local\\programs\\python\\python311\\lib\\site-packages (from jsonschema[format-nongpl]>=4.18.0->jupyter-events>=0.9.0->jupyter-server<3,>=2.4.0->notebook->jupyter==1.0.0->d2l) (1.5.1)\n",
      "Requirement already satisfied: isoduration in c:\\users\\atus\\appdata\\local\\programs\\python\\python311\\lib\\site-packages (from jsonschema[format-nongpl]>=4.18.0->jupyter-events>=0.9.0->jupyter-server<3,>=2.4.0->notebook->jupyter==1.0.0->d2l) (20.11.0)\n",
      "Requirement already satisfied: jsonpointer>1.13 in c:\\users\\atus\\appdata\\local\\programs\\python\\python311\\lib\\site-packages (from jsonschema[format-nongpl]>=4.18.0->jupyter-events>=0.9.0->jupyter-server<3,>=2.4.0->notebook->jupyter==1.0.0->d2l) (3.0.0)\n",
      "Requirement already satisfied: uri-template in c:\\users\\atus\\appdata\\local\\programs\\python\\python311\\lib\\site-packages (from jsonschema[format-nongpl]>=4.18.0->jupyter-events>=0.9.0->jupyter-server<3,>=2.4.0->notebook->jupyter==1.0.0->d2l) (1.3.0)\n",
      "Requirement already satisfied: webcolors>=24.6.0 in c:\\users\\atus\\appdata\\local\\programs\\python\\python311\\lib\\site-packages (from jsonschema[format-nongpl]>=4.18.0->jupyter-events>=0.9.0->jupyter-server<3,>=2.4.0->notebook->jupyter==1.0.0->d2l) (24.8.0)\n",
      "Requirement already satisfied: cffi>=1.0.1 in c:\\users\\atus\\appdata\\local\\programs\\python\\python311\\lib\\site-packages (from argon2-cffi-bindings->argon2-cffi>=21.1->jupyter-server<3,>=2.4.0->notebook->jupyter==1.0.0->d2l) (1.17.1)\n",
      "Requirement already satisfied: pycparser in c:\\users\\atus\\appdata\\local\\programs\\python\\python311\\lib\\site-packages (from cffi>=1.0.1->argon2-cffi-bindings->argon2-cffi>=21.1->jupyter-server<3,>=2.4.0->notebook->jupyter==1.0.0->d2l) (2.22)\n",
      "Requirement already satisfied: arrow>=0.15.0 in c:\\users\\atus\\appdata\\local\\programs\\python\\python311\\lib\\site-packages (from isoduration->jsonschema[format-nongpl]>=4.18.0->jupyter-events>=0.9.0->jupyter-server<3,>=2.4.0->notebook->jupyter==1.0.0->d2l) (1.3.0)\n",
      "Requirement already satisfied: types-python-dateutil>=2.8.10 in c:\\users\\atus\\appdata\\local\\programs\\python\\python311\\lib\\site-packages (from arrow>=0.15.0->isoduration->jsonschema[format-nongpl]>=4.18.0->jupyter-events>=0.9.0->jupyter-server<3,>=2.4.0->notebook->jupyter==1.0.0->d2l) (2.9.0.20240906)\n",
      "Note: you may need to restart the kernel to use updated packages.\n"
     ]
    }
   ],
   "source": [
    "pip install d2l"
   ]
  },
  {
   "cell_type": "code",
   "execution_count": 9,
   "id": "68ac2585-e084-4054-8eac-52364edb395f",
   "metadata": {},
   "outputs": [
    {
     "name": "stdout",
     "output_type": "stream",
     "text": [
      "Requirement already satisfied: numpy in c:\\users\\atus\\appdata\\local\\programs\\python\\python311\\lib\\site-packages (1.23.5)Note: you may need to restart the kernel to use updated packages.\n",
      "\n"
     ]
    }
   ],
   "source": [
    "pip install numpy --prefer-binary"
   ]
  },
  {
   "cell_type": "code",
   "execution_count": 10,
   "id": "4c313b3d-55ad-4413-8012-7c3581f827a5",
   "metadata": {},
   "outputs": [
    {
     "name": "stdout",
     "output_type": "stream",
     "text": [
      "Collecting mxnet\n",
      "  Using cached mxnet-1.7.0.post2-py2.py3-none-win_amd64.whl.metadata (402 bytes)\n",
      "Collecting numpy<1.17.0,>=1.8.2 (from mxnet)\n",
      "  Using cached numpy-1.16.6.zip (5.1 MB)\n",
      "  Preparing metadata (setup.py): started\n",
      "  Preparing metadata (setup.py): finished with status 'done'\n",
      "Collecting requests<2.19.0,>=2.18.4 (from mxnet)\n",
      "  Using cached requests-2.18.4-py2.py3-none-any.whl.metadata (50 kB)\n",
      "Collecting graphviz<0.9.0,>=0.8.1 (from mxnet)\n",
      "  Using cached graphviz-0.8.4-py2.py3-none-any.whl.metadata (6.4 kB)\n",
      "Requirement already satisfied: certifi>=2017.4.17 in c:\\users\\atus\\appdata\\local\\programs\\python\\python311\\lib\\site-packages (from requests<2.19.0,>=2.18.4->mxnet) (2024.8.30)\n",
      "Collecting chardet<3.1.0,>=3.0.2 (from requests<2.19.0,>=2.18.4->mxnet)\n",
      "  Using cached chardet-3.0.4-py2.py3-none-any.whl.metadata (3.2 kB)\n",
      "Collecting idna<2.7,>=2.5 (from requests<2.19.0,>=2.18.4->mxnet)\n",
      "  Using cached idna-2.6-py2.py3-none-any.whl.metadata (8.9 kB)\n",
      "Collecting urllib3<1.23,>=1.21.1 (from requests<2.19.0,>=2.18.4->mxnet)\n",
      "  Using cached urllib3-1.22-py2.py3-none-any.whl.metadata (32 kB)\n",
      "Using cached mxnet-1.7.0.post2-py2.py3-none-win_amd64.whl (33.1 MB)\n",
      "Using cached graphviz-0.8.4-py2.py3-none-any.whl (16 kB)\n",
      "Using cached requests-2.18.4-py2.py3-none-any.whl (88 kB)\n",
      "Using cached chardet-3.0.4-py2.py3-none-any.whl (133 kB)\n",
      "Using cached idna-2.6-py2.py3-none-any.whl (56 kB)\n",
      "Using cached urllib3-1.22-py2.py3-none-any.whl (132 kB)\n",
      "Building wheels for collected packages: numpy\n",
      "  Building wheel for numpy (setup.py): started\n",
      "  Building wheel for numpy (setup.py): finished with status 'error'\n",
      "  Running setup.py clean for numpy\n",
      "Failed to build numpy\n",
      "Note: you may need to restart the kernel to use updated packages.\n"
     ]
    },
    {
     "name": "stderr",
     "output_type": "stream",
     "text": [
      "  error: subprocess-exited-with-error\n",
      "  \n",
      "  python setup.py bdist_wheel did not run successfully.\n",
      "  exit code: 1\n",
      "  \n",
      "  [17 lines of output]\n",
      "  Running from numpy source directory.\n",
      "  C:\\Users\\ATUS\\AppData\\Local\\Temp\\pip-install-drtkxttn\\numpy_c9153c082b5548f5b81c358f7d4e9573\\numpy\\distutils\\misc_util.py:476: SyntaxWarning: \"is\" with a literal. Did you mean \"==\"?\n",
      "    return is_string(s) and ('*' in s or '?' is s)\n",
      "  Traceback (most recent call last):\n",
      "    File \"<string>\", line 2, in <module>\n",
      "    File \"<pip-setuptools-caller>\", line 34, in <module>\n",
      "    File \"C:\\Users\\ATUS\\AppData\\Local\\Temp\\pip-install-drtkxttn\\numpy_c9153c082b5548f5b81c358f7d4e9573\\setup.py\", line 419, in <module>\n",
      "      setup_package()\n",
      "    File \"C:\\Users\\ATUS\\AppData\\Local\\Temp\\pip-install-drtkxttn\\numpy_c9153c082b5548f5b81c358f7d4e9573\\setup.py\", line 398, in setup_package\n",
      "      from numpy.distutils.core import setup\n",
      "    File \"C:\\Users\\ATUS\\AppData\\Local\\Temp\\pip-install-drtkxttn\\numpy_c9153c082b5548f5b81c358f7d4e9573\\numpy\\distutils\\core.py\", line 26, in <module>\n",
      "      from numpy.distutils.command import config, config_compiler, \\\n",
      "    File \"C:\\Users\\ATUS\\AppData\\Local\\Temp\\pip-install-drtkxttn\\numpy_c9153c082b5548f5b81c358f7d4e9573\\numpy\\distutils\\command\\config.py\", line 19, in <module>\n",
      "      from numpy.distutils.mingw32ccompiler import generate_manifest\n",
      "    File \"C:\\Users\\ATUS\\AppData\\Local\\Temp\\pip-install-drtkxttn\\numpy_c9153c082b5548f5b81c358f7d4e9573\\numpy\\distutils\\mingw32ccompiler.py\", line 34, in <module>\n",
      "      from distutils.msvccompiler import get_build_version as get_build_msvc_version\n",
      "  ModuleNotFoundError: No module named 'distutils.msvccompiler'\n",
      "  [end of output]\n",
      "  \n",
      "  note: This error originates from a subprocess, and is likely not a problem with pip.\n",
      "  ERROR: Failed building wheel for numpy\n",
      "  error: subprocess-exited-with-error\n",
      "  \n",
      "  python setup.py clean did not run successfully.\n",
      "  exit code: 1\n",
      "  \n",
      "  [10 lines of output]\n",
      "  Running from numpy source directory.\n",
      "  \n",
      "  `setup.py clean` is not supported, use one of the following instead:\n",
      "  \n",
      "    - `git clean -xdf` (cleans all files)\n",
      "    - `git clean -Xdf` (cleans all versioned files, doesn't touch\n",
      "                        files that aren't checked into the git repo)\n",
      "  \n",
      "  Add `--force` to your command to use it anyway if you must (unsupported).\n",
      "  \n",
      "  [end of output]\n",
      "  \n",
      "  note: This error originates from a subprocess, and is likely not a problem with pip.\n",
      "  ERROR: Failed cleaning build dir for numpy\n",
      "ERROR: ERROR: Failed to build installable wheels for some pyproject.toml based projects (numpy)\n"
     ]
    }
   ],
   "source": [
    "pip install mxnet"
   ]
  },
  {
   "cell_type": "code",
   "execution_count": 6,
   "id": "9bc8aeb2-5c77-4ced-879f-2f5ee2ff5836",
   "metadata": {},
   "outputs": [
    {
     "ename": "ModuleNotFoundError",
     "evalue": "No module named 'mxnet'",
     "output_type": "error",
     "traceback": [
      "\u001b[1;31m---------------------------------------------------------------------------\u001b[0m",
      "\u001b[1;31mModuleNotFoundError\u001b[0m                       Traceback (most recent call last)",
      "Cell \u001b[1;32mIn[6], line 1\u001b[0m\n\u001b[1;32m----> 1\u001b[0m \u001b[38;5;28;01mfrom\u001b[39;00m \u001b[38;5;21;01md2l\u001b[39;00m \u001b[38;5;28;01mimport\u001b[39;00m mxnet \u001b[38;5;28;01mas\u001b[39;00m d2l\n\u001b[0;32m      2\u001b[0m \u001b[38;5;28;01mfrom\u001b[39;00m \u001b[38;5;21;01mmxnet\u001b[39;00m \u001b[38;5;28;01mimport\u001b[39;00m np, npx\n\u001b[0;32m      3\u001b[0m \u001b[38;5;28;01mfrom\u001b[39;00m \u001b[38;5;21;01mmxnet\u001b[39;00m\u001b[38;5;21;01m.\u001b[39;00m\u001b[38;5;21;01mgluon\u001b[39;00m \u001b[38;5;28;01mimport\u001b[39;00m nn\n",
      "File \u001b[1;32m~\\AppData\\Local\\Programs\\Python\\Python311\\Lib\\site-packages\\d2l\\mxnet.py:8\u001b[0m\n\u001b[0;32m      5\u001b[0m DATA_HUB \u001b[38;5;241m=\u001b[39m \u001b[38;5;28mdict\u001b[39m()\n\u001b[0;32m      6\u001b[0m DATA_URL \u001b[38;5;241m=\u001b[39m \u001b[38;5;124m'\u001b[39m\u001b[38;5;124mhttp://d2l-data.s3-accelerate.amazonaws.com/\u001b[39m\u001b[38;5;124m'\u001b[39m\n\u001b[1;32m----> 8\u001b[0m \u001b[38;5;28;01mfrom\u001b[39;00m \u001b[38;5;21;01mmxnet\u001b[39;00m \u001b[38;5;28;01mimport\u001b[39;00m autograd, context, gluon, image, init, np, npx\n\u001b[0;32m      9\u001b[0m \u001b[38;5;28;01mfrom\u001b[39;00m \u001b[38;5;21;01mmxnet\u001b[39;00m\u001b[38;5;21;01m.\u001b[39;00m\u001b[38;5;21;01mgluon\u001b[39;00m \u001b[38;5;28;01mimport\u001b[39;00m nn, rnn\n\u001b[0;32m     10\u001b[0m \u001b[38;5;28;01mfrom\u001b[39;00m \u001b[38;5;21;01mmxnet\u001b[39;00m\u001b[38;5;21;01m.\u001b[39;00m\u001b[38;5;21;01mgluon\u001b[39;00m\u001b[38;5;21;01m.\u001b[39;00m\u001b[38;5;21;01mdata\u001b[39;00m\u001b[38;5;21;01m.\u001b[39;00m\u001b[38;5;21;01mvision\u001b[39;00m \u001b[38;5;28;01mimport\u001b[39;00m transforms\n",
      "\u001b[1;31mModuleNotFoundError\u001b[0m: No module named 'mxnet'"
     ]
    }
   ],
   "source": [
    "from d2l import mxnet as d2l\n",
    "from mxnet import np, npx\n",
    "from mxnet.gluon import nn\n",
    "npx.set_np()\n",
    "\n",
    "class Inception(nn.Block):\n",
    "    # c1 - c4 are the number of output channels for each layer in the path\n",
    "    def __init__(self, c1, c2, c3, c4, **kwargs):\n",
    "        super(Inception, self).__init__(**kwargs)\n",
    "        # Path 1 is a single 1 x 1 convolutional layer\n",
    "        self.p1_1 = nn.Conv2D(c1, kernel_size=1, activation='relu')\n",
    "        # Path 2 is a 1 x 1 convolutional layer followed by a 3 x 3\n",
    "        # convolutional layer\n",
    "        self.p2_1 = nn.Conv2D(c2[0], kernel_size=1, activation='relu')\n",
    "        self.p2_2 = nn.Conv2D(c2[1], kernel_size=3, padding=1,\n",
    "                              activation='relu')\n",
    "        # Path 3 is a 1 x 1 convolutional layer followed by a 5 x 5\n",
    "        # convolutional layer\n",
    "        self.p3_1 = nn.Conv2D(c3[0], kernel_size=1, activation='relu')\n",
    "        self.p3_2 = nn.Conv2D(c3[1], kernel_size=5, padding=2,\n",
    "                              activation='relu')\n",
    "        # Path 4 is a 3 x 3 maximum pooling layer followed by a 1 x 1\n",
    "        # convolutional layer\n",
    "        self.p4_1 = nn.MaxPool2D(pool_size=3, strides=1, padding=1)\n",
    "        self.p4_2 = nn.Conv2D(c4, kernel_size=1, activation='relu')\n",
    "\n",
    "    def forward(self, x):\n",
    "        p1 = self.p1_1(x)\n",
    "        p2 = self.p2_2(self.p2_1(x))\n",
    "        p3 = self.p3_2(self.p3_1(x))\n",
    "        p4 = self.p4_2(self.p4_1(x))\n",
    "        # Concatenate the outputs on the channel dimension\n",
    "        return np.concatenate((p1, p2, p3, p4), axis=1)"
   ]
  },
  {
   "cell_type": "code",
   "execution_count": null,
   "id": "f8671ba6-42ac-4d26-9414-bbd1c3bf8e62",
   "metadata": {},
   "outputs": [],
   "source": [
    "b1 = nn.Sequential()\n",
    "b1.add(nn.Conv2D(64, kernel_size=7, strides=2, padding=3, activation='relu'),\n",
    "       nn.MaxPool2D(pool_size=3, strides=2, padding=1))"
   ]
  },
  {
   "cell_type": "code",
   "execution_count": 7,
   "id": "4d7854e1-90ed-4527-8b31-f0c092b60b62",
   "metadata": {},
   "outputs": [
    {
     "ename": "NameError",
     "evalue": "name 'nn' is not defined",
     "output_type": "error",
     "traceback": [
      "\u001b[1;31m---------------------------------------------------------------------------\u001b[0m",
      "\u001b[1;31mNameError\u001b[0m                                 Traceback (most recent call last)",
      "Cell \u001b[1;32mIn[7], line 1\u001b[0m\n\u001b[1;32m----> 1\u001b[0m b2 \u001b[38;5;241m=\u001b[39m \u001b[43mnn\u001b[49m\u001b[38;5;241m.\u001b[39mSequential()\n\u001b[0;32m      2\u001b[0m b2\u001b[38;5;241m.\u001b[39madd(nn\u001b[38;5;241m.\u001b[39mConv2D(\u001b[38;5;241m64\u001b[39m, kernel_size\u001b[38;5;241m=\u001b[39m\u001b[38;5;241m1\u001b[39m, activation\u001b[38;5;241m=\u001b[39m\u001b[38;5;124m'\u001b[39m\u001b[38;5;124mrelu\u001b[39m\u001b[38;5;124m'\u001b[39m),\n\u001b[0;32m      3\u001b[0m        nn\u001b[38;5;241m.\u001b[39mConv2D(\u001b[38;5;241m192\u001b[39m, kernel_size\u001b[38;5;241m=\u001b[39m\u001b[38;5;241m3\u001b[39m, padding\u001b[38;5;241m=\u001b[39m\u001b[38;5;241m1\u001b[39m, activation\u001b[38;5;241m=\u001b[39m\u001b[38;5;124m'\u001b[39m\u001b[38;5;124mrelu\u001b[39m\u001b[38;5;124m'\u001b[39m),\n\u001b[0;32m      4\u001b[0m        nn\u001b[38;5;241m.\u001b[39mMaxPool2D(pool_size\u001b[38;5;241m=\u001b[39m\u001b[38;5;241m3\u001b[39m, strides\u001b[38;5;241m=\u001b[39m\u001b[38;5;241m2\u001b[39m, padding\u001b[38;5;241m=\u001b[39m\u001b[38;5;241m1\u001b[39m))\n",
      "\u001b[1;31mNameError\u001b[0m: name 'nn' is not defined"
     ]
    }
   ],
   "source": [
    "b2 = nn.Sequential()\n",
    "b2.add(nn.Conv2D(64, kernel_size=1, activation='relu'),\n",
    "       nn.Conv2D(192, kernel_size=3, padding=1, activation='relu'),\n",
    "       nn.MaxPool2D(pool_size=3, strides=2, padding=1))"
   ]
  },
  {
   "cell_type": "code",
   "execution_count": 8,
   "id": "36a8a264-0420-4384-8262-3a80333e502c",
   "metadata": {},
   "outputs": [
    {
     "ename": "NameError",
     "evalue": "name 'nn' is not defined",
     "output_type": "error",
     "traceback": [
      "\u001b[1;31m---------------------------------------------------------------------------\u001b[0m",
      "\u001b[1;31mNameError\u001b[0m                                 Traceback (most recent call last)",
      "Cell \u001b[1;32mIn[8], line 1\u001b[0m\n\u001b[1;32m----> 1\u001b[0m b3 \u001b[38;5;241m=\u001b[39m \u001b[43mnn\u001b[49m\u001b[38;5;241m.\u001b[39mSequential()\n\u001b[0;32m      2\u001b[0m b3\u001b[38;5;241m.\u001b[39madd(Inception(\u001b[38;5;241m64\u001b[39m, (\u001b[38;5;241m96\u001b[39m, \u001b[38;5;241m128\u001b[39m), (\u001b[38;5;241m16\u001b[39m, \u001b[38;5;241m32\u001b[39m), \u001b[38;5;241m32\u001b[39m),\n\u001b[0;32m      3\u001b[0m        Inception(\u001b[38;5;241m128\u001b[39m, (\u001b[38;5;241m128\u001b[39m, \u001b[38;5;241m192\u001b[39m), (\u001b[38;5;241m32\u001b[39m, \u001b[38;5;241m96\u001b[39m), \u001b[38;5;241m64\u001b[39m),\n\u001b[0;32m      4\u001b[0m        nn\u001b[38;5;241m.\u001b[39mMaxPool2D(pool_size\u001b[38;5;241m=\u001b[39m\u001b[38;5;241m3\u001b[39m, strides\u001b[38;5;241m=\u001b[39m\u001b[38;5;241m2\u001b[39m, padding\u001b[38;5;241m=\u001b[39m\u001b[38;5;241m1\u001b[39m))\n",
      "\u001b[1;31mNameError\u001b[0m: name 'nn' is not defined"
     ]
    }
   ],
   "source": [
    "b3 = nn.Sequential()\n",
    "b3.add(Inception(64, (96, 128), (16, 32), 32),\n",
    "       Inception(128, (128, 192), (32, 96), 64),\n",
    "       nn.MaxPool2D(pool_size=3, strides=2, padding=1))"
   ]
  },
  {
   "cell_type": "code",
   "execution_count": null,
   "id": "ea1bb033-8f31-473a-ae8d-2cfffccf3a19",
   "metadata": {},
   "outputs": [],
   "source": [
    "b4 = nn.Sequential()\n",
    "b4.add(Inception(192, (96, 208), (16, 48), 64),\n",
    "       Inception(160, (112, 224), (24, 64), 64),\n",
    "       Inception(128, (128, 256), (24, 64), 64),\n",
    "       Inception(112, (144, 288), (32, 64), 64),\n",
    "       Inception(256, (160, 320), (32, 128), 128),\n",
    "       nn.MaxPool2D(pool_size=3, strides=2, padding=1))"
   ]
  },
  {
   "cell_type": "code",
   "execution_count": null,
   "id": "06df7bd8-ef50-48aa-a9c6-98c2b1297994",
   "metadata": {},
   "outputs": [],
   "source": [
    "b5 = nn.Sequential()\n",
    "b5.add(Inception(256, (160, 320), (32, 128), 128),\n",
    "       Inception(384, (192, 384), (48, 128), 128),\n",
    "       nn.GlobalAvgPool2D())\n",
    "\n",
    "net = nn.Sequential()\n",
    "net.add(b1, b2, b3, b4, b5, nn.Dense(10))"
   ]
  },
  {
   "cell_type": "code",
   "execution_count": null,
   "id": "0e462331-f5cc-4a48-9d39-19666b6f8785",
   "metadata": {},
   "outputs": [],
   "source": [
    "X = np.random.uniform(size=(1, 1, 96, 96))\n",
    "net.initialize()\n",
    "for layer in net:\n",
    "    X = layer(X)\n",
    "    print(layer.name, 'output shape:\\t', X.shape)"
   ]
  },
  {
   "cell_type": "code",
   "execution_count": null,
   "id": "07268e46-1b01-456e-8d24-e79da8999003",
   "metadata": {},
   "outputs": [],
   "source": [
    "lr, num_epochs, batch_size = 0.1, 10, 128\n",
    "train_iter, test_iter = d2l.load_data_fashion_mnist(batch_size, resize=96)\n",
    "d2l.train_ch6(net, train_iter, test_iter, num_epochs, lr)"
   ]
  }
 ],
 "metadata": {
  "kernelspec": {
   "display_name": "Python 3 (ipykernel)",
   "language": "python",
   "name": "python3"
  },
  "language_info": {
   "codemirror_mode": {
    "name": "ipython",
    "version": 3
   },
   "file_extension": ".py",
   "mimetype": "text/x-python",
   "name": "python",
   "nbconvert_exporter": "python",
   "pygments_lexer": "ipython3",
   "version": "3.11.0"
  }
 },
 "nbformat": 4,
 "nbformat_minor": 5
}
